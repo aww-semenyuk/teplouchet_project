{
 "cells": [
  {
   "cell_type": "markdown",
   "metadata": {},
   "source": [
    "## Добавляем данные о числе жильцов в таблицу с данными по теплоучету"
   ]
  },
  {
   "cell_type": "code",
   "execution_count": 1,
   "metadata": {},
   "outputs": [],
   "source": [
    "import pandas as pd\n",
    "import numpy as np\n",
    "\n",
    "import difflib\n",
    "import re\n",
    "\n",
    "from tqdm import tqdm"
   ]
  },
  {
   "cell_type": "markdown",
   "metadata": {},
   "source": [
    "### Загружаем таблицу с данными по числу жильцов, извлекаем из нее все адреса"
   ]
  },
  {
   "cell_type": "code",
   "execution_count": 2,
   "metadata": {},
   "outputs": [
    {
     "data": {
      "text/plain": [
       "0                      г. Томск, пер. 1905 года, д. 8\n",
       "1        обл. Томская, г. Томск, пер. 1905 года, д. 8\n",
       "2                     г. Томск, пер. 1905 года, д. 15\n",
       "3       обл. Томская, г. Томск, пер. 1905 года, д. 15\n",
       "4                     г. Томск, пер. 1905 года, д. 20\n",
       "                            ...                      \n",
       "6672      обл. Томская, г. Томск, ул. Яковлева, д. 45\n",
       "6673                    г. Томск, ул. Яковлева, д. 55\n",
       "6674      обл. Томская, г. Томск, ул. Яковлева, д. 55\n",
       "6675                  г. Томск, ул. Яковлева, д. 74/1\n",
       "6676    обл. Томская, г. Томск, ул. Яковлева, д. 74/1\n",
       "Name: Address, Length: 6677, dtype: object"
      ]
     },
     "execution_count": 2,
     "metadata": {},
     "output_type": "execute_result"
    }
   ],
   "source": [
    "inhabs_data = pd.read_csv('inhabitants.csv', sep=';', encoding='cp1251')\n",
    "new_add = inhabs_data['Address']\n",
    "new_add"
   ]
  },
  {
   "cell_type": "markdown",
   "metadata": {},
   "source": [
    "### Загружаем таблицу с данными по теплоучету, также извлекаем из нее адреса"
   ]
  },
  {
   "cell_type": "code",
   "execution_count": 3,
   "metadata": {},
   "outputs": [
    {
     "data": {
      "text/plain": [
       "0           Иркутский тр. , д.196\n",
       "1         Иркутский тр. , д.104-а\n",
       "2           Иркутский тр. , д.108\n",
       "3             Фрунзе пр. , д.67/1\n",
       "4           Иркутский тр. , д.114\n",
       "                   ...           \n",
       "470988        Нахимова ул. , д.12\n",
       "565652     Профсоюзная ул. , д.20\n",
       "571161        Косарева ул. , д.14\n",
       "573882      Котовского ул. , д.12\n",
       "696386          Кирова пр. , д.22\n",
       "Name: Address, Length: 1093, dtype: object"
      ]
     },
     "execution_count": 3,
     "metadata": {},
     "output_type": "execute_result"
    }
   ],
   "source": [
    "data = pd.read_csv('dataset_3_part_address.csv', sep=';', parse_dates=['Date'], decimal='.')\n",
    "old_add = data['Address'].drop_duplicates()\n",
    "old_add"
   ]
  },
  {
   "cell_type": "code",
   "execution_count": 4,
   "metadata": {},
   "outputs": [],
   "source": [
    "old_list = list(old_add)\n",
    "new_list = list(new_add)"
   ]
  },
  {
   "cell_type": "markdown",
   "metadata": {},
   "source": [
    "### Модифицируем формат адресов в датасете по теплоучету, чтобы он больше соответствовал новым данным, при этом организуем словарь \"новое значение\" - \"старое значение\" для того, чтобы можно было вернуться к исходным значениям"
   ]
  },
  {
   "cell_type": "code",
   "execution_count": 5,
   "metadata": {},
   "outputs": [],
   "source": [
    "old_list_mod = []\n",
    "old_mod_dict = dict()\n",
    "for elem in old_list:\n",
    "    copy = elem\n",
    "    copy = re.sub('С.Лазо', 'Сергея Лазо', copy, count=1)\n",
    "    if (re.match('.*пер.', copy)):\n",
    "        copy = 'пер. ' + re.sub(' пер. ', '', copy)\n",
    "    if (re.match('.*ул.', copy)):\n",
    "        copy = 'ул. ' + re.sub(' ул. ', '', copy)\n",
    "    if (re.match('.*пр-д', copy)):\n",
    "        copy = 'проезд. ' + re.sub(' пр-д ', '', copy)\n",
    "    old_list_mod.append(copy)\n",
    "    old_mod_dict.update({copy:elem})"
   ]
  },
  {
   "cell_type": "markdown",
   "metadata": {},
   "source": [
    "### Также производим некоторые операции с форматом адресов из таблицы с данными по числу жильцов"
   ]
  },
  {
   "cell_type": "code",
   "execution_count": 6,
   "metadata": {},
   "outputs": [],
   "source": [
    "new_list_mod = []\n",
    "new_mod_dict = dict()\n",
    "for elem in new_list:\n",
    "    copy = elem\n",
    "    copy = re.sub('МПС Северный', 'МПС', copy, count=1)\n",
    "    if re.match('обл. Томская, г. Томск, ', copy):\n",
    "        new_list_mod.append(copy[24:])\n",
    "        new_mod_dict.update({copy[24:]:elem})\n",
    "    elif re.match('г. Томск, ', copy):\n",
    "        new_list_mod.append(copy[10:])\n",
    "        new_mod_dict.update({copy[10:]:elem})"
   ]
  },
  {
   "cell_type": "markdown",
   "metadata": {},
   "source": [
    "### Для каждого модифицированного адреса из таблицы с данными по теплоучету подбираем модифицированный адрес из таблицы с данными по числу жильцов, параллельно заполняя словарь соответствий. В словарь при этом записываются не модифицированные, а \"старые\" адреса из обоих таблиц, получаемые из двух соответствующих словарей, созданных ранее"
   ]
  },
  {
   "cell_type": "code",
   "execution_count": 7,
   "metadata": {},
   "outputs": [
    {
     "name": "stderr",
     "output_type": "stream",
     "text": [
      "100%|██████████████████████████████████████████████████████████████████████████████| 1093/1093 [18:05<00:00,  1.01it/s]\n"
     ]
    }
   ],
   "source": [
    "add_match_d = dict()\n",
    "for address in tqdm(old_list_mod):\n",
    "    match = difflib.get_close_matches(''.join(address.split()), new_list_mod, n=1, cutoff=0)[0]\n",
    "    add_match_d.update({old_mod_dict[address]:new_mod_dict[match]})"
   ]
  },
  {
   "cell_type": "code",
   "execution_count": 8,
   "metadata": {},
   "outputs": [],
   "source": [
    "match_df = pd.DataFrame.from_dict(add_match_d, orient='index')\n",
    "match_df.reset_index(inplace=True)\n",
    "match_df.columns = ['old', 'new']"
   ]
  },
  {
   "cell_type": "code",
   "execution_count": 9,
   "metadata": {},
   "outputs": [
    {
     "data": {
      "text/html": [
       "<div>\n",
       "<style scoped>\n",
       "    .dataframe tbody tr th:only-of-type {\n",
       "        vertical-align: middle;\n",
       "    }\n",
       "\n",
       "    .dataframe tbody tr th {\n",
       "        vertical-align: top;\n",
       "    }\n",
       "\n",
       "    .dataframe thead th {\n",
       "        text-align: right;\n",
       "    }\n",
       "</style>\n",
       "<table border=\"1\" class=\"dataframe\">\n",
       "  <thead>\n",
       "    <tr style=\"text-align: right;\">\n",
       "      <th></th>\n",
       "      <th>old</th>\n",
       "      <th>new</th>\n",
       "    </tr>\n",
       "  </thead>\n",
       "  <tbody>\n",
       "    <tr>\n",
       "      <th>0</th>\n",
       "      <td>Иркутский тр. , д.196</td>\n",
       "      <td>г. Томск, тракт Иркутский, д. 196</td>\n",
       "    </tr>\n",
       "    <tr>\n",
       "      <th>1</th>\n",
       "      <td>Иркутский тр. , д.104-а</td>\n",
       "      <td>г. Томск, тракт Иркутский, д. 104а</td>\n",
       "    </tr>\n",
       "    <tr>\n",
       "      <th>2</th>\n",
       "      <td>Иркутский тр. , д.108</td>\n",
       "      <td>г. Томск, тракт Иркутский, д. 108</td>\n",
       "    </tr>\n",
       "    <tr>\n",
       "      <th>3</th>\n",
       "      <td>Фрунзе пр. , д.67/1</td>\n",
       "      <td>г. Томск, пр-кт Фрунзе, д. 67/1</td>\n",
       "    </tr>\n",
       "    <tr>\n",
       "      <th>4</th>\n",
       "      <td>Иркутский тр. , д.114</td>\n",
       "      <td>г. Томск, тракт Иркутский, д. 114</td>\n",
       "    </tr>\n",
       "  </tbody>\n",
       "</table>\n",
       "</div>"
      ],
      "text/plain": [
       "                       old                                 new\n",
       "0    Иркутский тр. , д.196   г. Томск, тракт Иркутский, д. 196\n",
       "1  Иркутский тр. , д.104-а  г. Томск, тракт Иркутский, д. 104а\n",
       "2    Иркутский тр. , д.108   г. Томск, тракт Иркутский, д. 108\n",
       "3      Фрунзе пр. , д.67/1     г. Томск, пр-кт Фрунзе, д. 67/1\n",
       "4    Иркутский тр. , д.114   г. Томск, тракт Иркутский, д. 114"
      ]
     },
     "execution_count": 9,
     "metadata": {},
     "output_type": "execute_result"
    }
   ],
   "source": [
    "match_df.head()"
   ]
  },
  {
   "cell_type": "code",
   "execution_count": 10,
   "metadata": {},
   "outputs": [],
   "source": [
    "match_df.to_clipboard(index=False)"
   ]
  },
  {
   "cell_type": "markdown",
   "metadata": {},
   "source": [
    "### Получив таблицу соответствий, проверяем ее корректность вручную"
   ]
  },
  {
   "cell_type": "markdown",
   "metadata": {},
   "source": [
    "#### Для некоторых адресов подобрать соответствие не получилось даже вручную ввиду отстутствия данных на сайте ЖКХ"
   ]
  },
  {
   "cell_type": "code",
   "execution_count": 11,
   "metadata": {},
   "outputs": [],
   "source": [
    "add_match_d.update({'Беринга ул. , д.2/2':'None'})\n",
    "add_match_d.update({'Мичурина ул. , д.55':'None'})\n",
    "add_match_d.update({'Интернационалистов ул. , д.21':'None'})\n",
    "add_match_d.update({'Осенний пер. , д.2':'None'})\n",
    "add_match_d.update({'Мичурина ул. , д.51':'None'})\n",
    "add_match_d.update({'Угрюмова Ал. ул. , д.1/1':'None'})"
   ]
  },
  {
   "cell_type": "markdown",
   "metadata": {},
   "source": [
    "#### Для остальных адресов можно вручную устранить ошибки при автоматическом поиске соответствия (данные по ним присутствовали)"
   ]
  },
  {
   "cell_type": "code",
   "execution_count": 12,
   "metadata": {},
   "outputs": [],
   "source": [
    "add_match_d.update({'Дзержинского ул. , д.24-a':'г. Томск, ул. Дзержинского, д. 24а'})\n",
    "add_match_d.update({'Рабочая 3 ул. , д.9':'г. Томск, ул. Рабочая 3-я, д. 9'})\n",
    "add_match_d.update({'Рабочая 1 ул. , д.8':'г. Томск, ул. Рабочая 1-я, д. 8'})"
   ]
  },
  {
   "cell_type": "markdown",
   "metadata": {},
   "source": [
    "### После того как убедились в корректности всех соответствий, на их основе можно внести в таблицу данные по числу жильцов."
   ]
  },
  {
   "cell_type": "code",
   "execution_count": 13,
   "metadata": {},
   "outputs": [],
   "source": [
    "data['New_Address'] = data['Address'].map(add_match_d)"
   ]
  },
  {
   "cell_type": "code",
   "execution_count": 14,
   "metadata": {},
   "outputs": [],
   "source": [
    "new_add_to_num_dict = {}\n",
    "for add,num in zip(list(inhabs_data['Address']), list(inhabs_data['Inhabitants'])):\n",
    "    new_add_to_num_dict.update({add:num})"
   ]
  },
  {
   "cell_type": "code",
   "execution_count": 15,
   "metadata": {},
   "outputs": [
    {
     "data": {
      "text/html": [
       "<div>\n",
       "<style scoped>\n",
       "    .dataframe tbody tr th:only-of-type {\n",
       "        vertical-align: middle;\n",
       "    }\n",
       "\n",
       "    .dataframe tbody tr th {\n",
       "        vertical-align: top;\n",
       "    }\n",
       "\n",
       "    .dataframe thead th {\n",
       "        text-align: right;\n",
       "    }\n",
       "</style>\n",
       "<table border=\"1\" class=\"dataframe\">\n",
       "  <thead>\n",
       "    <tr style=\"text-align: right;\">\n",
       "      <th></th>\n",
       "      <th>Date</th>\n",
       "      <th>М1_t</th>\n",
       "      <th>М2_t</th>\n",
       "      <th>delta_М_t</th>\n",
       "      <th>Т1</th>\n",
       "      <th>Т2</th>\n",
       "      <th>delta_Т</th>\n",
       "      <th>Q</th>\n",
       "      <th>USPD</th>\n",
       "      <th>YYYYMM</th>\n",
       "      <th>registrated</th>\n",
       "      <th>scheme</th>\n",
       "      <th>type</th>\n",
       "      <th>area</th>\n",
       "      <th>floors</th>\n",
       "      <th>walls_material</th>\n",
       "      <th>year_of_construction</th>\n",
       "      <th>area_of_building</th>\n",
       "      <th>temp</th>\n",
       "      <th>Inhabitants</th>\n",
       "    </tr>\n",
       "  </thead>\n",
       "  <tbody>\n",
       "    <tr>\n",
       "      <th>0</th>\n",
       "      <td>2013-12-01</td>\n",
       "      <td>93.950333</td>\n",
       "      <td>84.168098</td>\n",
       "      <td>9.782235</td>\n",
       "      <td>65.859886</td>\n",
       "      <td>43.560223</td>\n",
       "      <td>22.299663</td>\n",
       "      <td>2.104783</td>\n",
       "      <td>1</td>\n",
       "      <td>201312</td>\n",
       "      <td>Heating + Hot water</td>\n",
       "      <td>opened</td>\n",
       "      <td>1105</td>\n",
       "      <td>2707.4</td>\n",
       "      <td>5</td>\n",
       "      <td>panel</td>\n",
       "      <td>1983</td>\n",
       "      <td>4401.0</td>\n",
       "      <td>-0.157917</td>\n",
       "      <td>102.0</td>\n",
       "    </tr>\n",
       "    <tr>\n",
       "      <th>1</th>\n",
       "      <td>2013-12-01</td>\n",
       "      <td>169.336258</td>\n",
       "      <td>169.643768</td>\n",
       "      <td>-0.307510</td>\n",
       "      <td>66.641441</td>\n",
       "      <td>49.602718</td>\n",
       "      <td>17.038723</td>\n",
       "      <td>2.892227</td>\n",
       "      <td>3</td>\n",
       "      <td>201312</td>\n",
       "      <td>Heating + Hot water</td>\n",
       "      <td>closed</td>\n",
       "      <td>2105</td>\n",
       "      <td>3358.4</td>\n",
       "      <td>5</td>\n",
       "      <td>brick</td>\n",
       "      <td>1974</td>\n",
       "      <td>3610.4</td>\n",
       "      <td>-0.157917</td>\n",
       "      <td>133.0</td>\n",
       "    </tr>\n",
       "    <tr>\n",
       "      <th>2</th>\n",
       "      <td>2013-12-01</td>\n",
       "      <td>98.604866</td>\n",
       "      <td>100.520248</td>\n",
       "      <td>-1.915382</td>\n",
       "      <td>67.661072</td>\n",
       "      <td>41.020565</td>\n",
       "      <td>26.640507</td>\n",
       "      <td>2.630709</td>\n",
       "      <td>4</td>\n",
       "      <td>201312</td>\n",
       "      <td>Heating + Hot water</td>\n",
       "      <td>closed</td>\n",
       "      <td>2105</td>\n",
       "      <td>3153.5</td>\n",
       "      <td>5</td>\n",
       "      <td>brick</td>\n",
       "      <td>1975</td>\n",
       "      <td>3150.2</td>\n",
       "      <td>-0.157917</td>\n",
       "      <td>119.0</td>\n",
       "    </tr>\n",
       "    <tr>\n",
       "      <th>3</th>\n",
       "      <td>2013-12-01</td>\n",
       "      <td>121.030000</td>\n",
       "      <td>115.590000</td>\n",
       "      <td>5.440000</td>\n",
       "      <td>66.470000</td>\n",
       "      <td>50.350000</td>\n",
       "      <td>16.120000</td>\n",
       "      <td>1.949000</td>\n",
       "      <td>10</td>\n",
       "      <td>201312</td>\n",
       "      <td>Heating + Hot water</td>\n",
       "      <td>opened</td>\n",
       "      <td>1105</td>\n",
       "      <td>2646.5</td>\n",
       "      <td>5</td>\n",
       "      <td>panel</td>\n",
       "      <td>1982</td>\n",
       "      <td>2932.7</td>\n",
       "      <td>-0.157917</td>\n",
       "      <td>100.0</td>\n",
       "    </tr>\n",
       "    <tr>\n",
       "      <th>4</th>\n",
       "      <td>2013-12-01</td>\n",
       "      <td>100.120705</td>\n",
       "      <td>102.018661</td>\n",
       "      <td>-1.897956</td>\n",
       "      <td>67.699661</td>\n",
       "      <td>40.780910</td>\n",
       "      <td>26.918751</td>\n",
       "      <td>2.698659</td>\n",
       "      <td>12</td>\n",
       "      <td>201312</td>\n",
       "      <td>Heating + Hot water</td>\n",
       "      <td>closed</td>\n",
       "      <td>2105</td>\n",
       "      <td>3187.5</td>\n",
       "      <td>5</td>\n",
       "      <td>brick</td>\n",
       "      <td>1976</td>\n",
       "      <td>3456.2</td>\n",
       "      <td>-0.157917</td>\n",
       "      <td>132.0</td>\n",
       "    </tr>\n",
       "  </tbody>\n",
       "</table>\n",
       "</div>"
      ],
      "text/plain": [
       "        Date        М1_t        М2_t  delta_М_t         Т1         Т2  \\\n",
       "0 2013-12-01   93.950333   84.168098   9.782235  65.859886  43.560223   \n",
       "1 2013-12-01  169.336258  169.643768  -0.307510  66.641441  49.602718   \n",
       "2 2013-12-01   98.604866  100.520248  -1.915382  67.661072  41.020565   \n",
       "3 2013-12-01  121.030000  115.590000   5.440000  66.470000  50.350000   \n",
       "4 2013-12-01  100.120705  102.018661  -1.897956  67.699661  40.780910   \n",
       "\n",
       "     delta_Т         Q  USPD  YYYYMM          registrated  scheme  type  \\\n",
       "0  22.299663  2.104783     1  201312  Heating + Hot water  opened  1105   \n",
       "1  17.038723  2.892227     3  201312  Heating + Hot water  closed  2105   \n",
       "2  26.640507  2.630709     4  201312  Heating + Hot water  closed  2105   \n",
       "3  16.120000  1.949000    10  201312  Heating + Hot water  opened  1105   \n",
       "4  26.918751  2.698659    12  201312  Heating + Hot water  closed  2105   \n",
       "\n",
       "     area  floors walls_material  year_of_construction  area_of_building  \\\n",
       "0  2707.4       5          panel                  1983            4401.0   \n",
       "1  3358.4       5          brick                  1974            3610.4   \n",
       "2  3153.5       5          brick                  1975            3150.2   \n",
       "3  2646.5       5          panel                  1982            2932.7   \n",
       "4  3187.5       5          brick                  1976            3456.2   \n",
       "\n",
       "       temp  Inhabitants  \n",
       "0 -0.157917        102.0  \n",
       "1 -0.157917        133.0  \n",
       "2 -0.157917        119.0  \n",
       "3 -0.157917        100.0  \n",
       "4 -0.157917        132.0  "
      ]
     },
     "execution_count": 15,
     "metadata": {},
     "output_type": "execute_result"
    }
   ],
   "source": [
    "data['Inhabitants'] = data['New_Address'].map(new_add_to_num_dict)\n",
    "data = data.drop(['Address', 'New_Address'], axis=1)\n",
    "data.head()"
   ]
  },
  {
   "cell_type": "markdown",
   "metadata": {},
   "source": [
    "### Сохраняем таблицу с обновленными данными в csv"
   ]
  },
  {
   "cell_type": "code",
   "execution_count": 16,
   "metadata": {},
   "outputs": [],
   "source": [
    "data.to_csv('dataset_4.csv', sep=';', index=False, encoding='cp1251')"
   ]
  },
  {
   "cell_type": "markdown",
   "metadata": {},
   "source": [
    "### Добавляем столбец с числом жильцов в таблицу с очищенными данными без адресов на основе соответствий УСПД-число_жильцов из обновленной таблицы."
   ]
  },
  {
   "cell_type": "code",
   "execution_count": 17,
   "metadata": {},
   "outputs": [],
   "source": [
    "data_cleared = pd.read_csv('dataset_3_part.csv', sep=';')"
   ]
  },
  {
   "cell_type": "code",
   "execution_count": 18,
   "metadata": {},
   "outputs": [],
   "source": [
    "uspd_inhabs_dict = {}\n",
    "for uspd,num in zip(list(data['USPD']), list(data['Inhabitants'])):\n",
    "    uspd_inhabs_dict.update({uspd:num})"
   ]
  },
  {
   "cell_type": "code",
   "execution_count": 19,
   "metadata": {},
   "outputs": [],
   "source": [
    "data_cleared['Inhabitants'] = data_cleared['USPD'].map(uspd_inhabs_dict)"
   ]
  },
  {
   "cell_type": "code",
   "execution_count": 20,
   "metadata": {},
   "outputs": [],
   "source": [
    "data_cleared.to_csv('dataset_4_cleared.csv', sep=';', index=False, encoding='cp1251')"
   ]
  }
 ],
 "metadata": {
  "kernelspec": {
   "display_name": "Python 3",
   "language": "python",
   "name": "python3"
  },
  "language_info": {
   "codemirror_mode": {
    "name": "ipython",
    "version": 3
   },
   "file_extension": ".py",
   "mimetype": "text/x-python",
   "name": "python",
   "nbconvert_exporter": "python",
   "pygments_lexer": "ipython3",
   "version": "3.8.5"
  },
  "toc": {
   "base_numbering": 1,
   "nav_menu": {},
   "number_sections": false,
   "sideBar": true,
   "skip_h1_title": false,
   "title_cell": "Table of Contents",
   "title_sidebar": "Contents",
   "toc_cell": false,
   "toc_position": {},
   "toc_section_display": true,
   "toc_window_display": false
  }
 },
 "nbformat": 4,
 "nbformat_minor": 4
}
